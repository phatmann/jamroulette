{
  "nbformat": 4,
  "nbformat_minor": 0,
  "metadata": {
    "colab": {
      "name": "samplernn-pytorch example.ipynb",
      "provenance": [],
      "collapsed_sections": [],
      "include_colab_link": true
    },
    "kernelspec": {
      "name": "python3",
      "display_name": "Python 3"
    },
    "accelerator": "GPU"
  },
  "cells": [
    {
      "cell_type": "markdown",
      "metadata": {
        "id": "view-in-github",
        "colab_type": "text"
      },
      "source": [
        "<a href=\"https://colab.research.google.com/github/phatmann/jamroulette/blob/master/samplernn_pytorch_example.ipynb\" target=\"_parent\"><img src=\"https://colab.research.google.com/assets/colab-badge.svg\" alt=\"Open In Colab\"/></a>"
      ]
    },
    {
      "cell_type": "code",
      "metadata": {
        "id": "DhJRBkWLWENk",
        "colab_type": "code",
        "colab": {}
      },
      "source": [
        "# remember to enable GPU before beginning - Runtime/Change Runtime Type\n",
        "!git clone https://github.com/deepsound-project/samplernn-pytorch.git"
      ],
      "execution_count": 0,
      "outputs": []
    },
    {
      "cell_type": "code",
      "metadata": {
        "id": "cx7Nx5n8SQPl",
        "colab_type": "code",
        "outputId": "89c59316-7a44-4e6a-f8b3-cb5b5d28c85b",
        "colab": {
          "base_uri": "https://localhost:8080/",
          "height": 309
        }
      },
      "source": [
        "!apt-get install bc "
      ],
      "execution_count": 0,
      "outputs": [
        {
          "output_type": "stream",
          "text": [
            "Reading package lists... Done\n",
            "Building dependency tree       \n",
            "Reading state information... Done\n",
            "The following NEW packages will be installed:\n",
            "  bc\n",
            "0 upgraded, 1 newly installed, 0 to remove and 29 not upgraded.\n",
            "Need to get 86.2 kB of archives.\n",
            "After this operation, 223 kB of additional disk space will be used.\n",
            "Get:1 http://archive.ubuntu.com/ubuntu bionic/main amd64 bc amd64 1.07.1-2 [86.2 kB]\n",
            "Fetched 86.2 kB in 1s (146 kB/s)\n",
            "Selecting previously unselected package bc.\n",
            "(Reading database ... 134923 files and directories currently installed.)\n",
            "Preparing to unpack .../archives/bc_1.07.1-2_amd64.deb ...\n",
            "Unpacking bc (1.07.1-2) ...\n",
            "Processing triggers for man-db (2.8.3-2ubuntu0.1) ...\n",
            "Setting up bc (1.07.1-2) ...\n"
          ],
          "name": "stdout"
        }
      ]
    },
    {
      "cell_type": "code",
      "metadata": {
        "id": "_BXLwmqHSfTg",
        "colab_type": "code",
        "outputId": "7a1b4b73-bdc4-4d86-ff10-078c37251b32",
        "colab": {
          "base_uri": "https://localhost:8080/",
          "height": 207
        }
      },
      "source": [
        "pip install -r samplernn-pytorch/requirements.txt"
      ],
      "execution_count": 0,
      "outputs": [
        {
          "output_type": "stream",
          "text": [
            "Collecting librosa==0.5.1\n",
            "\u001b[?25l  Downloading https://files.pythonhosted.org/packages/51/c2/d8d8498252a2430ec9b90481754aca287c0ecc237a8feb331fa3b8933575/librosa-0.5.1.tar.gz (1.5MB)\n",
            "\u001b[K     |████████████████████████████████| 1.5MB 2.8MB/s \n",
            "\u001b[?25hCollecting matplotlib==2.1.0\n",
            "\u001b[?25l  Downloading https://files.pythonhosted.org/packages/b2/9c/fcc9cfbf2454d93be66a615657cda4184954b4b67b9fc07c8511ff152b8f/matplotlib-2.1.0-cp36-cp36m-manylinux1_x86_64.whl (15.0MB)\n",
            "\u001b[K     |████████████████████████████████| 15.0MB 158kB/s \n",
            "\u001b[?25hCollecting natsort==5.1.0\n",
            "  Downloading https://files.pythonhosted.org/packages/bc/e7/163948f0bd24298d86bdd47d4934bf9fd564716dea73e19690080de985e1/natsort-5.1.0-py2.py3-none-any.whl\n",
            "\u001b[31mERROR: Could not find a version that satisfies the requirement torch==0.2.0.post3 (from -r samplernn-pytorch/requirements.txt (line 4)) (from versions: 0.1.2, 0.1.2.post1, 0.1.2.post2, 0.3.1, 0.4.0, 0.4.1, 1.0.0, 1.0.1, 1.0.1.post2, 1.1.0, 1.2.0, 1.3.0, 1.3.1)\u001b[0m\n",
            "\u001b[31mERROR: No matching distribution found for torch==0.2.0.post3 (from -r samplernn-pytorch/requirements.txt (line 4))\u001b[0m\n"
          ],
          "name": "stdout"
        }
      ]
    },
    {
      "cell_type": "code",
      "metadata": {
        "id": "sYy_lGyOSo9P",
        "colab_type": "code",
        "outputId": "d1d6902f-2f2b-4585-b93d-8808afe5606e",
        "colab": {
          "base_uri": "https://localhost:8080/",
          "height": 462
        }
      },
      "source": [
        "# get workable pytorch version, add youtube script dependencies\n",
        "pip install torch==0.4.1 ffmpeg ffprobe youtube-dl"
      ],
      "execution_count": 0,
      "outputs": [
        {
          "output_type": "stream",
          "text": [
            "Collecting torch==0.4.1\n",
            "\u001b[?25l  Downloading https://files.pythonhosted.org/packages/49/0e/e382bcf1a6ae8225f50b99cc26effa2d4cc6d66975ccf3fa9590efcbedce/torch-0.4.1-cp36-cp36m-manylinux1_x86_64.whl (519.5MB)\n",
            "\u001b[K     |████████████████████████████████| 519.5MB 30kB/s \n",
            "\u001b[?25hCollecting ffmpeg\n",
            "  Downloading https://files.pythonhosted.org/packages/f0/cc/3b7408b8ecf7c1d20ad480c3eaed7619857bf1054b690226e906fdf14258/ffmpeg-1.4.tar.gz\n",
            "Collecting ffprobe\n",
            "  Downloading https://files.pythonhosted.org/packages/95/9c/adf90d21108d41f611aa921defd2f2e56d3f92724e4b5aa41fae7a9972aa/ffprobe-0.5.zip\n",
            "Collecting youtube-dl\n",
            "\u001b[?25l  Downloading https://files.pythonhosted.org/packages/35/f6/c36b2e8dd3fd528e4b10f4061ff97e086448ae248df243e34b9019bc6a50/youtube_dl-2019.11.5-py2.py3-none-any.whl (1.8MB)\n",
            "\u001b[K     |████████████████████████████████| 1.8MB 40.1MB/s \n",
            "\u001b[?25hBuilding wheels for collected packages: ffmpeg, ffprobe\n",
            "  Building wheel for ffmpeg (setup.py) ... \u001b[?25l\u001b[?25hdone\n",
            "  Created wheel for ffmpeg: filename=ffmpeg-1.4-cp36-none-any.whl size=6085 sha256=03c695f50f0a29fdc7b62257a26e4f950508d6d257089404c0143b6e947f1ffd\n",
            "  Stored in directory: /root/.cache/pip/wheels/b6/68/c3/a05a35f647ba871e5572b9bbfc0b95fd1c6637a2219f959e7a\n",
            "  Building wheel for ffprobe (setup.py) ... \u001b[?25l\u001b[?25hdone\n",
            "  Created wheel for ffprobe: filename=ffprobe-0.5-cp36-none-any.whl size=3431 sha256=f68300219b84527601eb3de2d2b246736ba5b6b50b1b67c67f05edd4778f356f\n",
            "  Stored in directory: /root/.cache/pip/wheels/a0/fe/3b/8af08ae1cdfc27e226779e2cb1a7c8a2ba4954c05c562cdc77\n",
            "Successfully built ffmpeg ffprobe\n",
            "\u001b[31mERROR: torchvision 0.4.2 has requirement torch==1.3.1, but you'll have torch 0.4.1 which is incompatible.\u001b[0m\n",
            "\u001b[31mERROR: fastai 1.0.59 has requirement torch>=1.0.0, but you'll have torch 0.4.1 which is incompatible.\u001b[0m\n",
            "Installing collected packages: torch, ffmpeg, ffprobe, youtube-dl\n",
            "  Found existing installation: torch 1.3.1\n",
            "    Uninstalling torch-1.3.1:\n",
            "      Successfully uninstalled torch-1.3.1\n",
            "Successfully installed ffmpeg-1.4 ffprobe-0.5 torch-0.4.1 youtube-dl-2019.11.5\n"
          ],
          "name": "stdout"
        }
      ]
    },
    {
      "cell_type": "code",
      "metadata": {
        "id": "lLnuVLduTklM",
        "colab_type": "code",
        "outputId": "79a4e33d-a2a8-42db-86bc-4caf6d90713c",
        "colab": {
          "base_uri": "https://localhost:8080/",
          "height": 34
        }
      },
      "source": [
        "cd samplernn-pytorch/datasets/"
      ],
      "execution_count": 0,
      "outputs": [
        {
          "output_type": "stream",
          "text": [
            "/content/samplernn-pytorch/datasets\n"
          ],
          "name": "stdout"
        }
      ]
    },
    {
      "cell_type": "code",
      "metadata": {
        "id": "sMxOZbjcVJMZ",
        "colab_type": "code",
        "outputId": "33c1efc5-3577-4fcc-baa3-b4a9b06108a6",
        "colab": {
          "base_uri": "https://localhost:8080/",
          "height": 615
        }
      },
      "source": [
        "!./download-from-youtube.sh \"https://www.youtube.com/watch?v=k_Ibvyi40fs\" 8 jazzpiano"
      ],
      "execution_count": 0,
      "outputs": [
        {
          "output_type": "stream",
          "text": [
            "[youtube] k_Ibvyi40fs: Downloading webpage\n",
            "[youtube] k_Ibvyi40fs: Downloading video info webpage\n",
            "[download] Destination: .temp\n",
            "\u001b[K[download] 100% of 228.21MiB in 00:08\n",
            "ffmpeg version 3.4.6-0ubuntu0.18.04.1 Copyright (c) 2000-2019 the FFmpeg developers\n",
            "  built with gcc 7 (Ubuntu 7.3.0-16ubuntu3)\n",
            "  configuration: --prefix=/usr --extra-version=0ubuntu0.18.04.1 --toolchain=hardened --libdir=/usr/lib/x86_64-linux-gnu --incdir=/usr/include/x86_64-linux-gnu --enable-gpl --disable-stripping --enable-avresample --enable-avisynth --enable-gnutls --enable-ladspa --enable-libass --enable-libbluray --enable-libbs2b --enable-libcaca --enable-libcdio --enable-libflite --enable-libfontconfig --enable-libfreetype --enable-libfribidi --enable-libgme --enable-libgsm --enable-libmp3lame --enable-libmysofa --enable-libopenjpeg --enable-libopenmpt --enable-libopus --enable-libpulse --enable-librubberband --enable-librsvg --enable-libshine --enable-libsnappy --enable-libsoxr --enable-libspeex --enable-libssh --enable-libtheora --enable-libtwolame --enable-libvorbis --enable-libvpx --enable-libwavpack --enable-libwebp --enable-libx265 --enable-libxml2 --enable-libxvid --enable-libzmq --enable-libzvbi --enable-omx --enable-openal --enable-opengl --enable-sdl2 --enable-libdc1394 --enable-libdrm --enable-libiec61883 --enable-chromaprint --enable-frei0r --enable-libopencv --enable-libx264 --enable-shared\n",
            "  libavutil      55. 78.100 / 55. 78.100\n",
            "  libavcodec     57.107.100 / 57.107.100\n",
            "  libavformat    57. 83.100 / 57. 83.100\n",
            "  libavdevice    57. 10.100 / 57. 10.100\n",
            "  libavfilter     6.107.100 /  6.107.100\n",
            "  libavresample   3.  7.  0 /  3.  7.  0\n",
            "  libswscale      4.  8.100 /  4.  8.100\n",
            "  libswresample   2.  9.100 /  2.  9.100\n",
            "  libpostproc    54.  7.100 / 54.  7.100\n",
            "Input #0, matroska,webm, from '.temp':\n",
            "  Metadata:\n",
            "    encoder         : google/video-file\n",
            "  Duration: 03:35:27.48, start: -0.007000, bitrate: 148 kb/s\n",
            "    Stream #0:0(jpn): Audio: opus, 48000 Hz, stereo, fltp (default)\n",
            "Stream mapping:\n",
            "  Stream #0:0 -> #0:0 (opus (native) -> pcm_s16le (native))\n",
            "Press [q] to stop, [?] for help\n",
            "Output #0, wav, to '.temp2.wav':\n",
            "  Metadata:\n",
            "    ISFT            : Lavf57.83.100\n",
            "    Stream #0:0(jpn): Audio: pcm_s16le ([1][0][0][0] / 0x0001), 16000 Hz, mono, s16, 256 kb/s (default)\n",
            "    Metadata:\n",
            "      encoder         : Lavc57.107.100 pcm_s16le\n",
            "size=  403984kB time=03:35:27.47 bitrate= 256.0kbits/s speed= 199x    \n",
            "video:0kB audio:403984kB subtitle:0kB other streams:0kB global headers:0kB muxing overhead: 0.000019%\n",
            "splitting...\n",
            "done\n"
          ],
          "name": "stdout"
        }
      ]
    },
    {
      "cell_type": "code",
      "metadata": {
        "id": "sx4hOe4FWoZY",
        "colab_type": "code",
        "outputId": "8b33cdea-52c7-40a5-8883-73f1c2c06eca",
        "colab": {
          "base_uri": "https://localhost:8080/",
          "height": 34
        }
      },
      "source": [
        "cd .."
      ],
      "execution_count": 0,
      "outputs": [
        {
          "output_type": "stream",
          "text": [
            "/content/samplernn-pytorch\n"
          ],
          "name": "stdout"
        }
      ]
    },
    {
      "cell_type": "code",
      "metadata": {
        "id": "TOrFPF0IXbPL",
        "colab_type": "code",
        "outputId": "e737b4fb-4341-4840-f061-a20acc830a9d",
        "colab": {
          "base_uri": "https://localhost:8080/",
          "height": 1000
        }
      },
      "source": [
        "!python train.py --exp JAZZPIANOTEST --frame_sizes 16 4 --n_rnn 2 --dataset jazzpiano"
      ],
      "execution_count": 0,
      "outputs": [
        {
          "output_type": "stream",
          "text": [
            "/content/samplernn-pytorch/model.py:60: UserWarning: nn.init.kaiming_uniform is now deprecated in favor of nn.init.kaiming_uniform_.\n",
            "  init.kaiming_uniform(self.input_expand.weight)\n",
            "/content/samplernn-pytorch/model.py:61: UserWarning: nn.init.constant is now deprecated in favor of nn.init.constant_.\n",
            "  init.constant(self.input_expand.bias, 0)\n",
            "/content/samplernn-pytorch/nn.py:48: UserWarning: nn.init.uniform is now deprecated in favor of nn.init.uniform_.\n",
            "  nn.init.uniform(tensor, -math.sqrt(3 / fan_in), math.sqrt(3 / fan_in))\n",
            "/content/samplernn-pytorch/model.py:76: UserWarning: nn.init.constant is now deprecated in favor of nn.init.constant_.\n",
            "  init.constant(getattr(self.rnn, 'bias_ih_l{}'.format(i)), 0)\n",
            "/content/samplernn-pytorch/nn.py:62: UserWarning: nn.init.orthogonal is now deprecated in favor of nn.init.orthogonal_.\n",
            "  init(chunk)\n",
            "/content/samplernn-pytorch/model.py:82: UserWarning: nn.init.constant is now deprecated in favor of nn.init.constant_.\n",
            "  init.constant(getattr(self.rnn, 'bias_hh_l{}'.format(i)), 0)\n",
            "/content/samplernn-pytorch/nn.py:31: UserWarning: nn.init.constant is now deprecated in favor of nn.init.constant_.\n",
            "  nn.init.constant(self.bias, 0)\n",
            "/content/samplernn-pytorch/model.py:90: UserWarning: nn.init.uniform is now deprecated in favor of nn.init.uniform_.\n",
            "  self.upsampling.conv_t.weight, -np.sqrt(6 / dim), np.sqrt(6 / dim)\n",
            "/content/samplernn-pytorch/model.py:92: UserWarning: nn.init.constant is now deprecated in favor of nn.init.constant_.\n",
            "  init.constant(self.upsampling.bias, 0)\n",
            "/content/samplernn-pytorch/model.py:141: UserWarning: nn.init.kaiming_uniform is now deprecated in favor of nn.init.kaiming_uniform_.\n",
            "  init.kaiming_uniform(self.input.weight)\n",
            "/content/samplernn-pytorch/model.py:150: UserWarning: nn.init.kaiming_uniform is now deprecated in favor of nn.init.kaiming_uniform_.\n",
            "  init.kaiming_uniform(self.hidden.weight)\n",
            "/content/samplernn-pytorch/model.py:151: UserWarning: nn.init.constant is now deprecated in favor of nn.init.constant_.\n",
            "  init.constant(self.hidden.bias, 0)\n",
            "/content/samplernn-pytorch/model.py:161: UserWarning: nn.init.constant is now deprecated in favor of nn.init.constant_.\n",
            "  init.constant(self.output.bias, 0)\n",
            "/content/samplernn-pytorch/model.py:181: UserWarning: Implicit dimension choice for log_softmax has been deprecated. Change the call to include dim=X as an argument.\n",
            "  return F.log_softmax(x.view(-1, self.q_levels)) \\\n",
            "training_loss: 8.7624  (0.0876)\ttime: 0s\n",
            "training_loss: 6.6350  (0.1531)\ttime: 1s\n",
            "training_loss: 6.1945  (0.2135)\ttime: 2s\n",
            "training_loss: 5.9522  (0.2709)\ttime: 3s\n",
            "training_loss: 5.6906  (0.3251)\ttime: 3s\n",
            "training_loss: 5.5466  (0.3773)\ttime: 4s\n",
            "training_loss: 5.6180  (0.4297)\ttime: 5s\n",
            "training_loss: 5.6169  (0.4816)\ttime: 6s\n",
            "training_loss: 5.3594  (0.5304)\ttime: 7s\n",
            "training_loss: 5.1409  (0.5765)\ttime: 7s\n",
            "training_loss: 4.9443  (0.6202)\ttime: 8s\n",
            "training_loss: 4.9057  (0.6630)\ttime: 9s\n",
            "training_loss: 4.8826  (0.7052)\ttime: 10s\n",
            "training_loss: 4.8100  (0.7463)\ttime: 11s\n",
            "training_loss: 4.6347  (0.7851)\ttime: 12s\n",
            "training_loss: 4.5317  (0.8226)\ttime: 12s\n",
            "training_loss: 4.4032  (0.8584)\ttime: 13s\n",
            "training_loss: 4.3017  (0.8928)\ttime: 14s\n",
            "training_loss: 4.2966  (0.9269)\ttime: 15s\n",
            "training_loss: 4.2996  (0.9606)\ttime: 16s\n",
            "Traceback (most recent call last):\n",
            "  File \"train.py\", line 360, in <module>\n",
            "    main(**vars(parser.parse_args()))\n",
            "  File \"train.py\", line 258, in main\n",
            "    trainer.run(params['epoch_limit'])\n",
            "  File \"/content/samplernn-pytorch/trainer/__init__.py\", line 56, in run\n",
            "    self.train()\n",
            "  File \"/content/samplernn-pytorch/trainer/__init__.py\", line 98, in train\n",
            "    *plugin_data\n",
            "  File \"/content/samplernn-pytorch/trainer/__init__.py\", line 44, in call_plugins\n",
            "    getattr(plugin, queue_name)(*args)\n",
            "  File \"/usr/local/lib/python3.6/dist-packages/torch/utils/trainer/plugins/monitor.py\", line 41, in iteration\n",
            "    stats['last'] = self._get_value(*args)\n",
            "  File \"/usr/local/lib/python3.6/dist-packages/torch/utils/trainer/plugins/loss.py\", line 8, in _get_value\n",
            "    return loss.item()\n",
            "KeyboardInterrupt\n"
          ],
          "name": "stdout"
        }
      ]
    },
    {
      "cell_type": "code",
      "metadata": {
        "id": "YGZ3Y897XoQI",
        "colab_type": "code",
        "colab": {}
      },
      "source": [
        ""
      ],
      "execution_count": 0,
      "outputs": []
    },
    {
      "cell_type": "code",
      "metadata": {
        "id": "R5ZJVtAJXmQu",
        "colab_type": "code",
        "colab": {}
      },
      "source": [
        ""
      ],
      "execution_count": 0,
      "outputs": []
    },
    {
      "cell_type": "code",
      "metadata": {
        "id": "BPp1utTcXlE8",
        "colab_type": "code",
        "colab": {}
      },
      "source": [
        ""
      ],
      "execution_count": 0,
      "outputs": []
    },
    {
      "cell_type": "code",
      "metadata": {
        "id": "35-Tcq_AVMAE",
        "colab_type": "code",
        "colab": {}
      },
      "source": [
        ""
      ],
      "execution_count": 0,
      "outputs": []
    },
    {
      "cell_type": "code",
      "metadata": {
        "id": "Z9WuVUvpVG-w",
        "colab_type": "code",
        "colab": {}
      },
      "source": [
        ""
      ],
      "execution_count": 0,
      "outputs": []
    },
    {
      "cell_type": "code",
      "metadata": {
        "id": "VECSN8iEVF1M",
        "colab_type": "code",
        "colab": {}
      },
      "source": [
        ""
      ],
      "execution_count": 0,
      "outputs": []
    },
    {
      "cell_type": "code",
      "metadata": {
        "id": "IyQzIm1oVEyA",
        "colab_type": "code",
        "colab": {}
      },
      "source": [
        ""
      ],
      "execution_count": 0,
      "outputs": []
    },
    {
      "cell_type": "code",
      "metadata": {
        "id": "yQyRhCvVVATX",
        "colab_type": "code",
        "colab": {}
      },
      "source": [
        ""
      ],
      "execution_count": 0,
      "outputs": []
    },
    {
      "cell_type": "code",
      "metadata": {
        "id": "NPqFFrpYU-1O",
        "colab_type": "code",
        "colab": {}
      },
      "source": [
        ""
      ],
      "execution_count": 0,
      "outputs": []
    },
    {
      "cell_type": "code",
      "metadata": {
        "id": "9dOzAQ_PU8GS",
        "colab_type": "code",
        "colab": {}
      },
      "source": [
        ""
      ],
      "execution_count": 0,
      "outputs": []
    },
    {
      "cell_type": "code",
      "metadata": {
        "id": "YxaSCMprThzh",
        "colab_type": "code",
        "colab": {}
      },
      "source": [
        ""
      ],
      "execution_count": 0,
      "outputs": []
    },
    {
      "cell_type": "code",
      "metadata": {
        "id": "RU3Bu8wDTgAK",
        "colab_type": "code",
        "colab": {}
      },
      "source": [
        ""
      ],
      "execution_count": 0,
      "outputs": []
    },
    {
      "cell_type": "code",
      "metadata": {
        "id": "3Qjsmw5wTS7c",
        "colab_type": "code",
        "colab": {}
      },
      "source": [
        ""
      ],
      "execution_count": 0,
      "outputs": []
    }
  ]
}